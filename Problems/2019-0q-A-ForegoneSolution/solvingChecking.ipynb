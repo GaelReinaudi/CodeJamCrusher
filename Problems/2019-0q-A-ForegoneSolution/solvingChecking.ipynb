{
 "cells": [
  {
   "cell_type": "markdown",
   "metadata": {},
   "source": [
    "# Foregone Solution"
   ]
  },
  {
   "cell_type": "code",
   "execution_count": 18,
   "metadata": {
    "collapsed": true
   },
   "outputs": [
    {
     "name": "stdin",
     "output_type": "stream",
     "text": [
      " 3\n",
      " 4\n"
     ]
    },
    {
     "name": "stdout",
     "output_type": "stream",
     "text": [
      "Case #1: 3 1\n"
     ]
    },
    {
     "name": "stdin",
     "output_type": "stream",
     "text": [
      " 940\n"
     ]
    },
    {
     "name": "stdout",
     "output_type": "stream",
     "text": [
      "Case #2: 930 10\n"
     ]
    },
    {
     "name": "stdin",
     "output_type": "stream",
     "text": [
      " 4444\n"
     ]
    },
    {
     "name": "stdout",
     "output_type": "stream",
     "text": [
      "Case #3: 3333 1111\n"
     ]
    }
   ],
   "source": [
    "def solveCase(numstr):\n",
    "    ans1 = ''\n",
    "    ans2 = ''\n",
    "    for c in numstr:\n",
    "        if c == '4':\n",
    "            ans1 += '3'\n",
    "            ans2 += '1'\n",
    "        else:\n",
    "            ans1 += c\n",
    "            ans2 += '0'\n",
    "    return int(ans1), int(ans2)\n",
    "\n",
    "n = int(input())\n",
    "for i in range(1, n+1):\n",
    "    line = input()\n",
    "    print(\"Case #{}:\".format(i), *solveCase(line))"
   ]
  },
  {
   "cell_type": "code",
   "execution_count": 43,
   "metadata": {},
   "outputs": [],
   "source": [
    "def solveCase(N, P):\n",
    "    if P[0] == 'E' and P[-1] == 'S':\n",
    "        return ''.join(sorted(P)[::-1])\n",
    "    if P[0] == 'S' and P[-1] == 'E':\n",
    "        return ''.join(sorted(P))\n",
    "    if P[0] == 'S':\n",
    "        cross = P.find('EE')+1\n",
    "        cross = P[:cross].count('E')\n",
    "        return 'E'*cross + 'S'*(N-1) + 'E'*(N-1-cross)\n",
    "    if P[0] == 'E':\n",
    "        cross = P.find('SS')+1\n",
    "        cross = P[:cross].count('S')\n",
    "        return 'S'*cross + 'E'*(N-1) + 'S'*(N-1-cross)\n",
    "\n",
    "    \n",
    "def solve():\n",
    "    T = int(input())\n",
    "    for i in range(1, T+1):\n",
    "        N = int(input())\n",
    "        P = input()\n",
    "        print(\"Case #{}:\".format(i), solveCase(N, P))"
   ]
  },
  {
   "cell_type": "code",
   "execution_count": 44,
   "metadata": {},
   "outputs": [
    {
     "name": "stdin",
     "output_type": "stream",
     "text": [
      " 2\n",
      " 2\n",
      " SE\n"
     ]
    },
    {
     "name": "stdout",
     "output_type": "stream",
     "text": [
      "Case #1: ES\n"
     ]
    },
    {
     "name": "stdin",
     "output_type": "stream",
     "text": [
      " 5\n",
      " EESSSESE\n"
     ]
    },
    {
     "name": "stdout",
     "output_type": "stream",
     "text": [
      "Case #2: SEEEESSS\n"
     ]
    }
   ],
   "source": [
    "solve()"
   ]
  },
  {
   "cell_type": "markdown",
   "metadata": {},
   "source": [
    "# Cryptopangrams"
   ]
  },
  {
   "cell_type": "code",
   "execution_count": 164,
   "metadata": {},
   "outputs": [
    {
     "name": "stdout",
     "output_type": "stream",
     "text": [
      "Case #1: CJQUIZKNOWBEVYOFDPFLUXALGORITHMS\n",
      "Case #1: SUBDERMATOGLYPHICFJKNQVWXZ\n"
     ]
    }
   ],
   "source": [
    "def prime_factor(n):\n",
    "    i = 2\n",
    "    while i * i <= n:\n",
    "        if n % i:\n",
    "            i += 1\n",
    "        else:\n",
    "            break\n",
    "    return [i, n//i]\n",
    "\n",
    "def solveCase(N, L, nums):\n",
    "    primes = [prime_factor(n) for n in nums]\n",
    "#    print(primes)\n",
    "    \n",
    "    for i in list(range(len(primes)-1)) + list(range(len(primes)-2, -1, -1)):\n",
    "        if primes[i][1] != primes[i+1][0]:\n",
    "            primes[i+1] = primes[i+1][::-1]\n",
    "        if primes[i][1] != primes[i+1][0]:\n",
    "            primes[i] = primes[i][::-1]\n",
    "            primes[i+1] = primes[i+1][::-1]\n",
    "        if primes[i][1] != primes[i+1][0]:\n",
    "            primes[i] = primes[i][::-1]\n",
    "#    print(primes)\n",
    "    primes = [primes[0][0]] + [pp[1] for pp in primes]\n",
    "    alpha = [chr(i) for i in range(ord('A'),ord('Z')+1)]\n",
    "    decypher = {si:alpha[i] for i,si in enumerate(sorted(list(set(primes))))}\n",
    "    return ''.join(list(map(lambda x: decypher[x], primes)))\n",
    "    \n",
    "def solve(inject=False, NL=None, numlist=None, truth=None):\n",
    "    T = int(input()) if not inject else 1\n",
    "    for i in range(1, T+1):\n",
    "        NL = input() if not inject else NL\n",
    "        numlist = input() if not inject else numlist\n",
    "        N,L = list(map(int, NL.split()))\n",
    "        nums = list(map(int, numlist.split()))\n",
    "        res = solveCase(N, L, nums)\n",
    "#        assert res == truth\n",
    "        print(\"Case #{}:\".format(i), res)\n",
    "solve(True, '103 31', '217 1891 4819 2291 2987 3811 1739 2491 4717 445 65 1079 8383 5353 901 187 649 1003 697 3239 7663 291 123 779 1007 3551 1943 2117 1679 989 3053', 'CJQUIZKNOWBEVYOFDPFLUXALGORITHMS')\n",
    "solve(True, '10000 25', '3292937 175597 18779 50429 375469 1651121 2102 3722 2376497 611683 489059 2328901 3150061 829981 421301 76409 38477 291931 730241 959821 1664197 3057407 4267589 4729181 5335543', 'SUBDERMATOGLYPHICFJKNQVWXZ')"
   ]
  },
  {
   "cell_type": "code",
   "execution_count": 203,
   "metadata": {},
   "outputs": [
    {
     "name": "stdout",
     "output_type": "stream",
     "text": [
      "Case #1: CJQUIZKNOWBEVYOFDPFLUXALGORITHMS\n",
      "Case #1: SUBDERMATOGLYPHICFJKNQVWXZ\n"
     ]
    }
   ],
   "source": [
    "def gcd(a, b):\n",
    "  while b:\n",
    "    a, b = b, a % b\n",
    "  return a\n",
    "\n",
    "def solveCase(N, L, nums):\n",
    "    uniques = list(set(nums))\n",
    "    primes = [gcd(a,b) for a in uniques for b in uniques]\n",
    "    primes += [n//p for n in nums for p in primes if not n%p]\n",
    "    primes = sorted(list(set([p for p in primes if p not in uniques+[1]])))\n",
    "    alpha = [chr(i) for i in range(ord('A'),ord('Z')+1)]\n",
    "    decypher = {si:alpha[i] for i,si in enumerate(primes)}\n",
    "    #print(decypher)\n",
    "    pps = nums[:]\n",
    "    for i,n in enumerate(pps):\n",
    "        for p in primes:\n",
    "            if not n%p:\n",
    "                pps[i] = [decypher[n//p], decypher[p]]\n",
    "    #print(pps)\n",
    "    assert len(pps) == len(nums)\n",
    "    for i in range(len(pps)-1):\n",
    "        if pps[i][1] != pps[i+1][0]:\n",
    "            pps[i+1] = pps[i+1][::-1]\n",
    "    check = True\n",
    "    for i in range(len(pps)-1):\n",
    "        if pps[i][1] != pps[i+1][0]:\n",
    "            check = False\n",
    "    #print(pps)\n",
    "    if not check:\n",
    "        pps[0] = pps[0][::-1]\n",
    "        for i in range(len(pps)-1):\n",
    "            if pps[i][1] != pps[i+1][0]:\n",
    "                pps[i+1] = pps[i+1][::-1]\n",
    "        check = True\n",
    "        for i in range(len(pps)-1):\n",
    "            if pps[i][1] != pps[i+1][0]:\n",
    "                check = False\n",
    "    #print(pps)\n",
    "    assert check\n",
    "    primes = [pps[0][0]] + [pp[1] for pp in pps]\n",
    "\n",
    "    return ''.join(primes)\n",
    "    \n",
    "def solve(inject=False, NL=None, numlist=None, truth=None):\n",
    "    T = int(input()) if not inject else 1\n",
    "    for i in range(1, T+1):\n",
    "        NL = input() if not inject else NL\n",
    "        numlist = input() if not inject else numlist\n",
    "        N,L = list(map(int, NL.split()))\n",
    "        nums = list(map(int, numlist.split()))\n",
    "        res = solveCase(N, L, nums)\n",
    "        #assert res == truth\n",
    "        print(\"Case #{}:\".format(i), res)\n",
    "solve(True, '103 31', '217 1891 4819 2291 2987 3811 1739 2491 4717 445 65 1079 8383 5353 901 187 649 1003 697 3239 7663 291 123 779 1007 3551 1943 2117 1679 989 3053', 'CJQUIZKNOWBEVYOFDPFLUXALGORITHMS')\n",
    "solve(True, '10000 25', '3292937 175597 18779 50429 375469 1651121 2102 3722 2376497 611683 489059 2328901 3150061 829981 421301 76409 38477 291931 730241 959821 1664197 3057407 4267589 4729181 5335543', 'SUBDERMATOGLYPHICFJKNQVWXZ')"
   ]
  },
  {
   "cell_type": "code",
   "execution_count": 204,
   "metadata": {},
   "outputs": [
    {
     "name": "stdin",
     "output_type": "stream",
     "text": [
      " 2\n",
      " 103 31\n",
      " 217 1891 4819 2291 2987 3811 1739 2491 4717 445 65 1079 8383 5353 901 187 649 1003 697 3239 7663 291 123 779 1007 3551 1943 2117 1679 989 3053\n"
     ]
    },
    {
     "name": "stdout",
     "output_type": "stream",
     "text": [
      "Case #1: CJQUIZKNOWBEVYOFDPFLUXALGORITHMS\n"
     ]
    },
    {
     "name": "stdin",
     "output_type": "stream",
     "text": [
      " 10000 25\n",
      " 3292937 175597 18779 50429 375469 1651121 2102 3722 2376497 611683 489059 2328901 3150061 829981 421301 76409 38477 291931 730241 959821 1664197 3057407 4267589 4729181 5335543\n"
     ]
    },
    {
     "name": "stdout",
     "output_type": "stream",
     "text": [
      "Case #2: SUBDERMATOGLYPHICFJKNQVWXZ\n"
     ]
    }
   ],
   "source": [
    "solve()"
   ]
  },
  {
   "cell_type": "code",
   "execution_count": null,
   "metadata": {},
   "outputs": [],
   "source": []
  },
  {
   "cell_type": "code",
   "execution_count": null,
   "metadata": {},
   "outputs": [],
   "source": []
  },
  {
   "cell_type": "code",
   "execution_count": null,
   "metadata": {},
   "outputs": [],
   "source": []
  },
  {
   "cell_type": "code",
   "execution_count": null,
   "metadata": {},
   "outputs": [],
   "source": []
  },
  {
   "cell_type": "code",
   "execution_count": null,
   "metadata": {},
   "outputs": [],
   "source": []
  },
  {
   "cell_type": "code",
   "execution_count": null,
   "metadata": {},
   "outputs": [],
   "source": []
  },
  {
   "cell_type": "code",
   "execution_count": null,
   "metadata": {},
   "outputs": [],
   "source": []
  },
  {
   "cell_type": "code",
   "execution_count": null,
   "metadata": {},
   "outputs": [],
   "source": []
  },
  {
   "cell_type": "code",
   "execution_count": null,
   "metadata": {},
   "outputs": [],
   "source": []
  }
 ],
 "metadata": {
  "kernelspec": {
   "display_name": "Python 3",
   "language": "python",
   "name": "python3"
  },
  "language_info": {
   "codemirror_mode": {
    "name": "ipython",
    "version": 3
   },
   "file_extension": ".py",
   "mimetype": "text/x-python",
   "name": "python",
   "nbconvert_exporter": "python",
   "pygments_lexer": "ipython3",
   "version": "3.6.8"
  }
 },
 "nbformat": 4,
 "nbformat_minor": 2
}
