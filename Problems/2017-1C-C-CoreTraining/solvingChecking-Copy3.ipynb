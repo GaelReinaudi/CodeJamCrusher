{
 "cells": [
  {
   "cell_type": "code",
   "execution_count": null,
   "metadata": {
    "collapsed": true
   },
   "outputs": [],
   "source": [
    "import numpy as np"
   ]
  },
  {
   "cell_type": "code",
   "execution_count": null,
   "metadata": {
    "collapsed": true
   },
   "outputs": [],
   "source": [
    "filePathIn = '/home/gael/Downloads/C-large.in'\n",
    "filePathIn = '/home/gael/Downloads/C-small-1-attempt2.in'\n",
    "#filePathIn = '/home/gael/Downloads/sample.in'\n",
    "filePathOut = '/home/gael/Downloads/oooooooooooooooooooooout.txt'"
   ]
  },
  {
   "cell_type": "code",
   "execution_count": null,
   "metadata": {
    "scrolled": true
   },
   "outputs": [],
   "source": [
    "def solveCase(n, k, listLine):\n",
    "    u = float(listLine[0])\n",
    "    print(n,k,u)\n",
    "    ps = list(map(lambda x: float(x), listLine[1].split())) + [1.0]\n",
    "    ps = sorted(ps)\n",
    "    print(u)\n",
    "    print(ps)\n",
    "\n",
    "    pds = []\n",
    "    for i in range(len(ps) -1 ):\n",
    "        pds += [[ps[i], ps[i+1]-ps[i]]]\n",
    "\n",
    "    print(pds)\n",
    "    \n",
    "    probef = 0.0\n",
    "    pro = 1.0\n",
    "    while abs(pro - probef) > 1e-9 and u > 0:\n",
    "        probef = pro\n",
    "        for i in range(len(pds)):\n",
    "            #print(pds[i])\n",
    "            step = pds[i][1]\n",
    "            if step > 0.0:\n",
    "                #print('step',i,step)\n",
    "                u0=u\n",
    "                u -= (i+1) * step\n",
    "                if u < 0.0:\n",
    "                    step = u0 / (i+1)\n",
    "                for j in range(i+1):\n",
    "                    #print('...',j,pds[j][0],'->',pds[j][0] + step)\n",
    "                    pds[j][0] += step\n",
    "                    pds[j][1] -= step\n",
    "                print('...u',u)\n",
    "                break\n",
    "    \n",
    "        pro = 1.0\n",
    "        for i in range(len(pds)):\n",
    "            pro *= pds[i][0]\n",
    "        \n",
    "    return str(pro)\n",
    "    #assert(False)\n",
    "    \n",
    "with open(filePathOut, 'w') as fileOut:\n",
    "    with open(filePathIn, 'r') as fileIn:\n",
    "        case = 0\n",
    "        lines = fileIn.readlines()\n",
    "        i = 0\n",
    "        nC = int(lines[i].strip())\n",
    "        i += 1\n",
    "        while i < len(lines):\n",
    "            l = lines[i].strip()\n",
    "            i += 1\n",
    "            case += 1\n",
    "            print('*'*14,case,'*'*14)\n",
    "            n,m = l.split()\n",
    "            n,m = int(n), int(m)\n",
    "            listLine = []\n",
    "            numlines = 2\n",
    "            for lc in range(numlines):\n",
    "                listLine += [lines[i+lc].strip()]\n",
    "            i += numlines\n",
    "            strSolve = str(solveCase(n,m, listLine))\n",
    "            strCase = \"Case #\"+str(case)+\": \"+strSolve\n",
    "            print(strCase[:19])\n",
    "            fileOut.write(strCase+'\\n')\n",
    "        assert(nC == case)"
   ]
  },
  {
   "cell_type": "code",
   "execution_count": null,
   "metadata": {
    "scrolled": true
   },
   "outputs": [],
   "source": [
    "ins = []\n",
    "outs = [' ']\n",
    "for l in open(filePathIn,'r'):\n",
    "    ins += [l.strip()[:1550]]\n",
    "for l in open(filePathOut,'r'):\n",
    "    outs += [l.strip()]\n",
    "#print(outs)\n",
    "for check in zip(*[ins,outs]):\n",
    "    print(check)"
   ]
  },
  {
   "cell_type": "code",
   "execution_count": null,
   "metadata": {
    "collapsed": true
   },
   "outputs": [],
   "source": []
  },
  {
   "cell_type": "code",
   "execution_count": null,
   "metadata": {
    "collapsed": true
   },
   "outputs": [],
   "source": []
  }
 ],
 "metadata": {
  "kernelspec": {
   "display_name": "Python [default]",
   "language": "python",
   "name": "python3"
  },
  "language_info": {
   "codemirror_mode": {
    "name": "ipython",
    "version": 3
   },
   "file_extension": ".py",
   "mimetype": "text/x-python",
   "name": "python",
   "nbconvert_exporter": "python",
   "pygments_lexer": "ipython3",
   "version": "3.5.2"
  }
 },
 "nbformat": 4,
 "nbformat_minor": 2
}
